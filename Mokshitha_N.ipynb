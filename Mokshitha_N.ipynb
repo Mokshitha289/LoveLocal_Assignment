{
  "nbformat": 4,
  "nbformat_minor": 0,
  "metadata": {
    "colab": {
      "provenance": []
    },
    "kernelspec": {
      "name": "python3",
      "display_name": "Python 3"
    },
    "language_info": {
      "name": "python"
    }
  },
  "cells": [
    {
      "cell_type": "markdown",
      "source": [
        "Easy 1"
      ],
      "metadata": {
        "id": "vgebZqausHIT"
      }
    },
    {
      "cell_type": "code",
      "execution_count": null,
      "metadata": {
        "colab": {
          "base_uri": "https://localhost:8080/"
        },
        "id": "pGlvCP8fsER2",
        "outputId": "511d4d2f-1cc7-416c-9d2f-920f860d32e1"
      },
      "outputs": [
        {
          "output_type": "stream",
          "name": "stdout",
          "text": [
            "Enter a string: James is my pet\n",
            "The length of the last word is: 3\n"
          ]
        }
      ],
      "source": [
        "def length_of_last_word(s):\n",
        "    # Remove trailing whitespaces from the right side of the string\n",
        "    s = s.rstrip()\n",
        "    length = 0\n",
        "    i = len(s) - 1\n",
        "    while i >= 0 and s[i] != ' ':\n",
        "        length += 1\n",
        "        i -= 1\n",
        "    return length\n",
        "# Take user input for a string\n",
        "user_input = input(\"Enter a string: \")\n",
        "# Call the function to calculate the length of the last word\n",
        "result = length_of_last_word(user_input)\n",
        "# Print the result\n",
        "print(f\"The length of the last word is: {result}\")\n"
      ]
    },
    {
      "cell_type": "markdown",
      "source": [
        "Algorithm:\n",
        "1.Define the function length_of_last_word(s):\n",
        "Input: a string s\n",
        "Output: an integer representing the length of the last word in the string\n",
        "2.Remove trailing whitespaces from the right side of the string:\n",
        "Use the rstrip() method to eliminate any spaces at the end of the string.\n",
        "3.Initialize variables:\n",
        "Set length to 0, which will store the length of the last word.\n",
        "Set i to len(s) - 1 to start from the last character of the string.\n",
        "4.Iterate from the end of the string towards the beginning:\n",
        "Use a while loop to traverse the string from the last character to the first.\n",
        "Continue the loop as long as i is greater than or equal to 0 and the character at index i is not a space.\n",
        "5.Count the length of the last word:\n",
        "Inside the loop, increment the length variable for each non-space character encountered.\n",
        "6.Return the calculated length:\n",
        "Once the loop completes, return the final value of the length variable.\n",
        "7.Take user input, call the function, and display the result:\n",
        "Use input() to get a string from the user.\n",
        "Call the length_of_last_word function with the user input as an argument.\n",
        "Print the result using print()."
      ],
      "metadata": {
        "id": "LyoXbPTcFtJZ"
      }
    },
    {
      "cell_type": "markdown",
      "source": [
        "The logic of the code is to iterate through the characters of the string from the end, counting the characters until a space is encountered or the beginning of the string is reached. This way, it calculates the length of the last word in the string."
      ],
      "metadata": {
        "id": "MN5k9G-vIWMm"
      }
    },
    {
      "cell_type": "markdown",
      "source": [
        "Medium 2"
      ],
      "metadata": {
        "id": "PD08gzsVswZL"
      }
    },
    {
      "cell_type": "code",
      "source": [
        "def majority_element(nums):\n",
        "    if not nums:\n",
        "        return []\n",
        "# Initialize candidates and their counters\n",
        "    candidate1, candidate2 = None, None\n",
        "    count1, count2 = 0, 0\n",
        "# Find candidates\n",
        "    for num in nums:\n",
        "        if num == candidate1:\n",
        "            count1 += 1\n",
        "        elif num == candidate2:\n",
        "            count2 += 1\n",
        "        elif count1 == 0:\n",
        "            candidate1, count1 = num, 1\n",
        "        elif count2 == 0:\n",
        "            candidate2, count2 = num, 1\n",
        "        else:\n",
        "            count1 -= 1\n",
        "            count2 -= 1\n",
        "    # Count occurrences of candidates\n",
        "    count1, count2 = 0, 0\n",
        "    for num in nums:\n",
        "        if num == candidate1:\n",
        "            count1 += 1\n",
        "        elif num == candidate2:\n",
        "            count2 += 1\n",
        "    # Check if candidates appear more than [n/3] times\n",
        "    result = []\n",
        "    if count1 > len(nums) // 3:\n",
        "        result.append(candidate1)\n",
        "    if count2 > len(nums) // 3:\n",
        "        result.append(candidate2)\n",
        "    return result\n",
        "# Take user input as a list of integers\n",
        "nums = [int(x) for x in input(\"Enter the integers separated by spaces: \").split()]\n",
        "# Find majority elements\n",
        "result = majority_element(nums)\n",
        "# Print the result\n",
        "print(\"Output:\", result)"
      ],
      "metadata": {
        "id": "sy09WliRtgDW",
        "colab": {
          "base_uri": "https://localhost:8080/"
        },
        "outputId": "50fa764a-aeb8-4414-dfcf-a87db19962cb"
      },
      "execution_count": 7,
      "outputs": [
        {
          "output_type": "stream",
          "name": "stdout",
          "text": [
            "Enter the integers separated by spaces: 3 2 3\n",
            "Output: [3]\n"
          ]
        }
      ]
    },
    {
      "cell_type": "markdown",
      "source": [
        "Algorithm:\n",
        "1.Define the function majority_element(nums):\n",
        "Input: a list of integers nums\n",
        "Output: a list of integers representing the majority elements (appearing more than ⌊n/3⌋ times), where n is the length of the input list\n",
        "2.Handle edge case:\n",
        "If the input list nums is empty, return an empty list as there are no majority elements.\n",
        "3.Initialize candidate variables and their counters:\n",
        "Set candidate1, candidate2, count1, and count2 to None and 0, respectively. These variables will store the two potential majority elements and their counts.\n",
        "4.Find candidates:\n",
        "Iterate through the elements in the input list nums.\n",
        "Update the counts for candidate1 and candidate2 if the current element matches either of them.\n",
        "If the counts are 0, update the candidate and set the count to 1.\n",
        "5.Decrement counts if candidates are different:\n",
        "If the current element is not equal to either candidate, decrement both counts (count1 and count2) by 1.\n",
        "This step simulates \"cancelling out\" pairs of different elements.\n",
        "6.Count occurrences of candidates:\n",
        "Reset counts (count1 and count2) to 0.\n",
        "Iterate through the input list nums again, counting occurrences of each candidate.\n",
        "7.Check if candidates appear more than ⌊n/3⌋ times:\n",
        "If the count for candidate1 is greater than ⌊n/3⌋, append it to the result list.\n",
        "If the count for candidate2 is greater than ⌊n/3⌋, append it to the result list.\n",
        "8.Return the result list:\n",
        "Return the list containing the majority elements."
      ],
      "metadata": {
        "id": "Gdo_HBwYIaQA"
      }
    },
    {
      "cell_type": "markdown",
      "source": [
        "Logic:\n",
        "The code follows the Boyer-Moore Majority Vote algorithm to find the majority elements. It keeps track of two candidates and their counters. The counters are incremented or decremented based on the encounters with candidates and different numbers. After finding the candidates, the code counts their occurrences and appends them to the result list if their counts are greater than [n/3], where n is the length of the list."
      ],
      "metadata": {
        "id": "esvvC9BaJhjG"
      }
    },
    {
      "cell_type": "markdown",
      "source": [
        "Hard 2"
      ],
      "metadata": {
        "id": "oblEjb7wCAGl"
      }
    },
    {
      "cell_type": "code",
      "source": [
        "def shortest_palindrome(s):\n",
        "    def is_palindrome(string):\n",
        "        return string == string[::-1]\n",
        "    for i in range(len(s) - 1, -1, -1):\n",
        "        if is_palindrome(s[:i + 1]):\n",
        "            # Found the longest palindrome suffix, add the remaining characters in reverse order\n",
        "            return s[i + 1:][::-1] + s\n",
        "    # If the input string is already a palindrome, return it as is\n",
        "    return s\n",
        "# Take user input for the string\n",
        "user_input = input(\"Enter a string: \")\n",
        "# Call the function to find the shortest palindrome\n",
        "result = shortest_palindrome(user_input)\n",
        "# Print the result\n",
        "print(f\"The shortest palindrome is: {result}\")"
      ],
      "metadata": {
        "id": "R5kOGrCXujV5",
        "colab": {
          "base_uri": "https://localhost:8080/"
        },
        "outputId": "04d97813-c6f5-4c5d-a63d-3aec66d39ebd"
      },
      "execution_count": 9,
      "outputs": [
        {
          "output_type": "stream",
          "name": "stdout",
          "text": [
            "Enter a string: aacecaaa\n",
            "The shortest palindrome is: aaacecaaa\n"
          ]
        }
      ]
    },
    {
      "cell_type": "markdown",
      "source": [
        "Algorithm:\n",
        "1.Define the function shortest_palindrome(s):\n",
        "Input: a string s\n",
        "Output: the shortest palindrome formed by adding characters to the beginning of the input string\n",
        "2.Define a helper function is_palindrome(string):\n",
        "Input: a string string\n",
        "Output: a boolean indicating whether the string is a palindrome (True or False)\n",
        "3.Iterate backward through the input string:\n",
        "Use a for loop starting from the end of the string (len(s) - 1) and moving towards the beginning (-1).\n",
        "4.Check for palindromes:\n",
        "For each substring from the start to the current index (s[:i + 1]), check if it is a palindrome using the helper function.\n",
        "5.Return the shortest palindrome:\n",
        "When a palindrome is found, add the remaining characters in reverse order (s[i + 1:][::-1]) to the original string and return the result.\n",
        "6.Handle the case where the input string is already a palindrome:\n",
        "If no palindrome suffix is found, return the original string as it is already a palindrome."
      ],
      "metadata": {
        "id": "DOnTVQrTJ7Q4"
      }
    },
    {
      "cell_type": "markdown",
      "source": [
        "Logic:\n",
        "The code aims to find the shortest palindrome by adding characters to the beginning of the input string. It does this by iterating through the string in reverse order and checking if each substring from the start to the current index is a palindrome.\n",
        "The is_palindrome helper function checks if a given string is a palindrome by comparing it with its reverse using slicing (string == string[::-1]).\n",
        "The main function shortest_palindrome uses a backward iteration loop to find the longest palindrome suffix in the string. Once it finds the longest palindrome suffix, it returns the remaining characters of the string (starting from the next index) in reverse order, concatenated with the original string. This forms the shortest palindrome.\n",
        "If no palindrome suffix is found, it means the input string is already a palindrome. In this case, the input string is returned as is.\n",
        "Finally, the code prompts the user to enter a string, calls the shortest_palindrome function with the user input, and prints the result."
      ],
      "metadata": {
        "id": "8pcKTjJNJ7E1"
      }
    }
  ]
}